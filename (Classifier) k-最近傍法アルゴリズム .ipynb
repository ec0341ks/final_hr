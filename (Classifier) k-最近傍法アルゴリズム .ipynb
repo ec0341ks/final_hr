{
 "cells": [
  {
   "cell_type": "code",
   "execution_count": 1,
   "metadata": {},
   "outputs": [],
   "source": [
    "%matplotlib inline\n",
    "import matplotlib.pyplot as plt\n",
    "import mglearn"
   ]
  },
  {
   "cell_type": "code",
   "execution_count": 2,
   "metadata": {},
   "outputs": [
    {
     "name": "stdout",
     "output_type": "stream",
     "text": [
      "[[ 9.96346605  4.59676542]\n",
      " [11.0329545  -0.16816717]\n",
      " [11.54155807  5.21116083]\n",
      " [ 8.69289001  1.54322016]\n",
      " [ 8.1062269   4.28695977]\n",
      " [ 8.30988863  4.80623966]\n",
      " [11.93027136  4.64866327]\n",
      " [ 9.67284681 -0.20283165]\n",
      " [ 8.34810316  5.13415623]\n",
      " [ 8.67494727  4.47573059]\n",
      " [ 9.17748385  5.09283177]\n",
      " [10.24028948  2.45544401]\n",
      " [ 8.68937095  1.48709629]\n",
      " [ 8.92229526 -0.63993225]\n",
      " [ 9.49123469  4.33224792]\n",
      " [ 9.25694192  5.13284858]\n",
      " [ 7.99815287  4.8525051 ]\n",
      " [ 8.18378052  1.29564214]\n",
      " [ 8.7337095   2.49162431]\n",
      " [ 9.32298256  5.09840649]\n",
      " [10.06393839  0.99078055]\n",
      " [ 9.50048972 -0.26430318]\n",
      " [ 8.34468785  1.63824349]\n",
      " [ 9.50169345  1.93824624]\n",
      " [ 9.15072323  5.49832246]\n",
      " [11.563957    1.3389402 ]]\n"
     ]
    },
    {
     "name": "stderr",
     "output_type": "stream",
     "text": [
      "/Users/muranakayui/study/machine_learning/venv/lib/python3.7/site-packages/sklearn/utils/deprecation.py:86: FutureWarning: Function make_blobs is deprecated; Please import make_blobs directly from scikit-learn\n",
      "  warnings.warn(msg, category=FutureWarning)\n"
     ]
    }
   ],
   "source": [
    "X, y = mglearn.datasets.make_forge()\n",
    "print(X)"
   ]
  },
  {
   "cell_type": "code",
   "execution_count": 3,
   "metadata": {},
   "outputs": [
    {
     "name": "stdout",
     "output_type": "stream",
     "text": [
      "X shape :  (26, 2)\n"
     ]
    },
    {
     "data": {
      "image/png": "[encoded data removed]",
      "text/plain": [
       "<Figure size 432x288 with 1 Axes>"
      ]
     },
     "metadata": {
      "needs_background": "light"
     },
     "output_type": "display_data"
    }
   ],
   "source": [
    "#  データをプロット\n",
    "mglearn.discrete_scatter(X[:,0],X[:,1],y) # discrete_scatter:種類や色を変えて散布図を描写\n",
    "print('X shape : ',X.shape)"
   ]
  },
  {
   "cell_type": "code",
   "execution_count": null,
   "metadata": {},
   "outputs": [],
   "source": []
  },
  {
   "cell_type": "code",
   "execution_count": 4,
   "metadata": {},
   "outputs": [],
   "source": [
    "from sklearn.model_selection import train_test_split\n",
    "\n",
    "X_train, X_test, y_train, y_test = train_test_split(X, y, random_state=0)"
   ]
  },
  {
   "cell_type": "code",
   "execution_count": 5,
   "metadata": {},
   "outputs": [
    {
     "data": {
      "text/plain": [
       "array([1, 0, 1, 0, 1, 0, 0])"
      ]
     },
     "execution_count": 5,
     "metadata": {},
     "output_type": "execute_result"
    }
   ],
   "source": [
    "from sklearn.neighbors import KNeighborsClassifier\n",
    "\n",
    "# 学習\n",
    "clf = KNeighborsClassifier(n_neighbors=3)\n",
    "clf.fit(X_train, y_train)\n",
    "\n",
    "# 予測\n",
    "clf.predict(X_test)"
   ]
  },
  {
   "cell_type": "code",
   "execution_count": null,
   "metadata": {},
   "outputs": [],
   "source": []
  },
  {
   "cell_type": "code",
   "execution_count": 6,
   "metadata": {
    "scrolled": true
   },
   "outputs": [
    {
     "data": {
      "text/plain": [
       "0.8571428571428571"
      ]
     },
     "execution_count": 6,
     "metadata": {},
     "output_type": "execute_result"
    }
   ],
   "source": [
    "#モデルの汎化性能の評価(accuracy)\n",
    "clf.score(X_test, y_test)"
   ]
  },
  {
   "cell_type": "code",
   "execution_count": null,
   "metadata": {},
   "outputs": [],
   "source": []
  },
  {
   "cell_type": "code",
   "execution_count": 13,
   "metadata": {},
   "outputs": [
    {
     "data": {
      "image/png": "[encoded data removed]",
      "text/plain": [
       "<Figure size 720x216 with 3 Axes>"
      ]
     },
     "metadata": {
      "needs_background": "light"
     },
     "output_type": "display_data"
    }
   ],
   "source": [
    "fig, axes = plt.subplots(1,3,figsize=(10,3))"
   ]
  },
  {
   "cell_type": "code",
   "execution_count": 32,
   "metadata": {},
   "outputs": [
    {
     "data": {
      "text/plain": [
       "<matplotlib.legend.Legend at 0x124dbb828>"
      ]
     },
     "execution_count": 32,
     "metadata": {},
     "output_type": "execute_result"
    },
    {
     "data": {
      "image/png": "[encoded data removed]",
      "text/plain": [
       "<Figure size 720x216 with 3 Axes>"
      ]
     },
     "metadata": {},
     "output_type": "display_data"
    }
   ],
   "source": [
    "# k=1,3,9のときに決定境界線を描画\n",
    "fig, axes = plt.subplots(1, 3, figsize=(10, 3))\n",
    "\n",
    "for n_neighbors, ax in zip([1,3, 9],axes):\n",
    "    clf = KNeighborsClassifier(n_neighbors=n_neighbors).fit(X,y) # 学習\n",
    "    mglearn.plots.plot_2d_separator(clf, X, fill=True, eps=0.5, ax=ax, alpha=.4) # plot_2d_separator : 第一引数に分類モデルを渡して、第二引数に元のデータを渡すと境界線を引いてくれる関数\n",
    "    mglearn.discrete_scatter(X[:,0], X[:,1], y, ax=ax) # discrete_scatter:種類や色を変えて散布図を描写\n",
    "    ax.set_title(\"{} neighbors\".format(n_neighbors))\n",
    "    ax.set_xlabel('feature0')\n",
    "    ax.set_ylabel('feature1')\n",
    "axes[0].legend(loc=3)\n"
   ]
  },
  {
   "cell_type": "code",
   "execution_count": null,
   "metadata": {},
   "outputs": [],
   "source": []
  },
  {
   "cell_type": "code",
   "execution_count": null,
   "metadata": {},
   "outputs": [],
   "source": []
  },
  {
   "cell_type": "code",
   "execution_count": null,
   "metadata": {},
   "outputs": [],
   "source": []
  }
 ],
 "metadata": {
  "kernelspec": {
   "display_name": "venv",
   "language": "python",
   "name": "study"
  },
  "language_info": {
   "codemirror_mode": {
    "name": "ipython",
    "version": 3
   },
   "file_extension": ".py",
   "mimetype": "text/x-python",
   "name": "python",
   "nbconvert_exporter": "python",
   "pygments_lexer": "ipython3",
   "version": "3.7.3"
  }
 },
 "nbformat": 4,
 "nbformat_minor": 4
}
